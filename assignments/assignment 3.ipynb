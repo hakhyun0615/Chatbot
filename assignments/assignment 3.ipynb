{
 "cells": [
  {
   "cell_type": "code",
   "execution_count": 1,
   "metadata": {},
   "outputs": [],
   "source": [
    "from langchain_openai import ChatOpenAI\n",
    "from langchain.prompts import ChatPromptTemplate, FewShotChatMessagePromptTemplate, MessagesPlaceholder\n",
    "from langchain.memory import ConversationSummaryBufferMemory\n",
    "from langchain.schema.runnable import RunnablePassthrough"
   ]
  },
  {
   "cell_type": "code",
   "execution_count": 2,
   "metadata": {},
   "outputs": [
    {
     "name": "stdout",
     "output_type": "stream",
     "text": [
      "🕰️💭🔁\n",
      "🔫🐶🚗\n",
      "💑📒💔\n",
      "The first movie you asked about was \"Inception.\"\n"
     ]
    }
   ],
   "source": [
    "llm = ChatOpenAI(temperature=0.1)\n",
    "\n",
    "memory = ConversationSummaryBufferMemory( # summarize the old conversation after token limit (mix of both)\n",
    "    llm=llm,\n",
    "    max_token_limit=150,\n",
    "    memory_key=\"history\", # used to load memory variables in llmchain\n",
    "    return_messages=True\n",
    ")\n",
    "\n",
    "examples = [\n",
    "    {\n",
    "        \"input\": \"Top Gun\",\n",
    "        \"output\": \"🛩️👨‍✈️🔥\",\n",
    "    },\n",
    "    {\n",
    "        \"input\": \"The Godfather\",\n",
    "        \"output\": \"👨‍👨‍👦🔫🍝\",\n",
    "    },\n",
    "]\n",
    "\n",
    "example_prompt = ChatPromptTemplate.from_messages([\n",
    "    (\"human\", \"{input}\"),\n",
    "    (\"ai\", \"{output}\")\n",
    "])\n",
    "\n",
    "few_shot_prompt = FewShotChatMessagePromptTemplate(\n",
    "    examples=examples,\n",
    "    example_prompt=example_prompt,\n",
    "    input_variables=[\"input\"],\n",
    ")\n",
    "\n",
    "final_prompt = ChatPromptTemplate.from_messages(\n",
    "    [\n",
    "        (\n",
    "            \"system\",\n",
    "            \"You are a movie expert. You know every movie. If a human tells you the title of the movie, you have to respond with 3 emoticons.\",\n",
    "        ),\n",
    "        few_shot_prompt,\n",
    "        (\n",
    "            \"system\",\n",
    "            \"The above examples should not be provided to the user. The user can only be provided with the conversation record below. Please provide the information to the user using the record below.\",\n",
    "        ),\n",
    "        MessagesPlaceholder(variable_name=\"history\"),\n",
    "        (\"human\", \"{input}\"),\n",
    "    ]\n",
    ")\n",
    "\n",
    "def load_memory(_):\n",
    "    return memory.load_memory_variables({})[\"history\"]\n",
    "\n",
    "chain = RunnablePassthrough.assign(history=load_memory) | final_prompt | llm # output of load_memory is assigned to history when invoked\n",
    "\n",
    "def invoke_chain(input):\n",
    "    answer = chain.invoke({\"input\": input})\n",
    "    memory.save_context(\n",
    "        {\"input\": input},\n",
    "        {\"output\": answer.content},\n",
    "    )\n",
    "    print(answer.content)\n",
    "\n",
    "invoke_chain(\"Inception\")\n",
    "invoke_chain(\"John Wick\")\n",
    "invoke_chain(\"The Notebook\")\n",
    "invoke_chain(\"what is the movie I asked you first?\")"
   ]
  }
 ],
 "metadata": {
  "kernelspec": {
   "display_name": "chatbot",
   "language": "python",
   "name": "python3"
  },
  "language_info": {
   "codemirror_mode": {
    "name": "ipython",
    "version": 3
   },
   "file_extension": ".py",
   "mimetype": "text/x-python",
   "name": "python",
   "nbconvert_exporter": "python",
   "pygments_lexer": "ipython3",
   "version": "3.11.11"
  }
 },
 "nbformat": 4,
 "nbformat_minor": 2
}
