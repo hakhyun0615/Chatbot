{
 "cells": [
  {
   "cell_type": "code",
   "execution_count": 5,
   "metadata": {},
   "outputs": [],
   "source": [
    "import json\n",
    "from langchain.chat_models import ChatOpenAI\n",
    "from langchain.prompts import PromptTemplate"
   ]
  },
  {
   "cell_type": "code",
   "execution_count": 10,
   "metadata": {},
   "outputs": [
    {
     "data": {
      "text/plain": [
       "{'questions': [{'question': 'What year was Rome founded?',\n",
       "   'answers': [{'answer': '753 BC', 'correct': True},\n",
       "    {'answer': '476 AD', 'correct': False},\n",
       "    {'answer': '1000 BC', 'correct': False}]},\n",
       "  {'question': 'Who was the first emperor of Rome?',\n",
       "   'answers': [{'answer': 'Julius Caesar', 'correct': False},\n",
       "    {'answer': 'Augustus', 'correct': True},\n",
       "    {'answer': 'Nero', 'correct': False}]},\n",
       "  {'question': 'What famous structure in Rome was built by the ancient Romans?',\n",
       "   'answers': [{'answer': 'Eiffel Tower', 'correct': False},\n",
       "    {'answer': 'Colosseum', 'correct': True},\n",
       "    {'answer': 'Big Ben', 'correct': False}]}]}"
      ]
     },
     "execution_count": 10,
     "metadata": {},
     "output_type": "execute_result"
    }
   ],
   "source": [
    "\"\"\"\n",
    "json schema: create description of the function\n",
    "eventhough the function does not exist, llm still generates appropriate arguments but no content\n",
    "\n",
    "compare with using llm twince in Quiz GPT\n",
    "\"\"\"\n",
    "\n",
    "function = {\n",
    "    \"name\": \"create_quiz\", # name of the function\n",
    "    \"description\": \"function that takes a list of questions and answers and returns a quiz\", \n",
    "    \"parameters\": { # arguments of the function\n",
    "        \"type\": \"object\",\n",
    "        \"properties\": { \n",
    "            \"questions\": { \n",
    "                \"type\": \"array\",\n",
    "                \"items\": {\n",
    "                    \"type\": \"object\",\n",
    "                    \"properties\": { \n",
    "                        \"question\": { \n",
    "                            \"type\": \"string\",\n",
    "                        },\n",
    "                        \"answers\": {\n",
    "                            \"type\": \"array\",\n",
    "                            \"items\": {\n",
    "                                \"type\": \"object\",\n",
    "                                \"properties\": {\n",
    "                                    \"answer\": {\n",
    "                                        \"type\": \"string\",\n",
    "                                    },\n",
    "                                    \"correct\": {\n",
    "                                        \"type\": \"boolean\",\n",
    "                                    },\n",
    "                                },\n",
    "                                \"required\": [\"answer\", \"correct\"],\n",
    "                            },\n",
    "                        },\n",
    "                    },\n",
    "                    \"required\": [\"question\", \"answers\"],\n",
    "                },\n",
    "            }\n",
    "        },\n",
    "        \"required\": [\"questions\"],\n",
    "    },\n",
    "}\n",
    "\n",
    "llm = ChatOpenAI(\n",
    "    temperature=0.1,\n",
    ").bind(\n",
    "    function_call={ # force the model to use function (\"auto\" if you want to let the model decide)\n",
    "        \"name\": \"create_quiz\", # name of the function\n",
    "    },\n",
    "    functions=[\n",
    "        function,\n",
    "    ],\n",
    ")\n",
    "\n",
    "prompt = PromptTemplate.from_template(\"Make a quiz about {city}\")\n",
    "chain = prompt | llm\n",
    "answer = chain.invoke({\"city\": \"rome\"})\n",
    "\n",
    "args = answer.additional_kwargs[\"function_call\"][\"arguments\"]\n",
    "args = json.loads(args) # since we definced parameters as json\n",
    "args"
   ]
  }
 ],
 "metadata": {
  "kernelspec": {
   "display_name": "chatbot",
   "language": "python",
   "name": "python3"
  },
  "language_info": {
   "codemirror_mode": {
    "name": "ipython",
    "version": 3
   },
   "file_extension": ".py",
   "mimetype": "text/x-python",
   "name": "python",
   "nbconvert_exporter": "python",
   "pygments_lexer": "ipython3",
   "version": "3.10.16"
  }
 },
 "nbformat": 4,
 "nbformat_minor": 2
}
