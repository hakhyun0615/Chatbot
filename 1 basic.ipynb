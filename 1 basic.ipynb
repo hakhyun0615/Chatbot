{
 "cells": [
  {
   "cell_type": "code",
   "execution_count": null,
   "metadata": {},
   "outputs": [],
   "source": [
    "from langchain.chat_models.openai import ChatOpenAI\n",
    "from langchain.schema import HumanMessage, AIMessage, SystemMessage, BaseOutputParser\n",
    "from langchain.prompts import PromptTemplate, ChatPromptTemplate\n",
    "from langchain.callbacks import StreamingStdOutCallbackHandler\n",
    "from langchain.prompts import load_prompt # load prompt from json/yaml"
   ]
  },
  {
   "cell_type": "code",
   "execution_count": null,
   "metadata": {},
   "outputs": [],
   "source": [
    "llm = ChatOpenAI(\n",
    "    temperature=0.1, # creativity\n",
    "    streaming=True, # stream response\n",
    "    callbacks=[StreamingStdOutCallbackHandler()] # print streaming response\n",
    ") # default: gpt-3.5-turbo"
   ]
  },
  {
   "cell_type": "code",
   "execution_count": null,
   "metadata": {},
   "outputs": [],
   "source": [
    "# predict text\n",
    "llm.predict(\"How many planets are there?\")\n",
    "\n",
    "# predict text using template\n",
    "template = PromptTemplate.from_template(\"What is the distance between {country_a} and {country_b}?\")\n",
    "\"\"\"\n",
    "template = PromptTemplate(\n",
    "    template=\"What is the distance between {country_a} and {country_b}?\",\n",
    "    input_variables=[\"country_a\", \"country_b\"],\n",
    ")\n",
    "template = load_prompt(\"prompt.json\")\n",
    "\"\"\"\n",
    "prompt = template.format(country_a=\"Mexico\", country_b=\"Thailand\")\n",
    "print(prompt)\n",
    "llm.predict(prompt)"
   ]
  },
  {
   "cell_type": "code",
   "execution_count": null,
   "metadata": {},
   "outputs": [],
   "source": [
    "# predict from messages\n",
    "messages = [\n",
    "    SystemMessage(content=\"You are a geography expert. And you only reply in Italian.\"), # default context\n",
    "    AIMessage(content=\"Ciao, mi chiamo Paolo!\"), # conversation history\n",
    "    HumanMessage(content=\"What is the distance between Mexico and Thailand. Also, What is your name?\")\n",
    "]\n",
    "llm.predict_messages(messages)\n",
    "\n",
    "# predict from messages using template\n",
    "template = ChatPromptTemplate.from_messages([\n",
    "    (\"system\", \"You are a geography expert. And you only reply in {language}.\"),\n",
    "    (\"ai\", \"Ciao, mi chiamo {name}!\"),\n",
    "    (\"human\", \"What is the distance between {country_a} and {country_b}. Also, What is your name?\")\n",
    "])\n",
    "prompt = template.format_messages(\n",
    "    language=\"Greel\",\n",
    "    name=\"Socrates\",\n",
    "    country_a=\"Mexico\",\n",
    "    country_b=\"Thailand\"\n",
    ")\n",
    "print(template)\n",
    "llm.predict_messages(prompt)"
   ]
  },
  {
   "cell_type": "code",
   "execution_count": null,
   "metadata": {},
   "outputs": [],
   "source": [
    "# output parser (change response)\n",
    "class CommaOutputParser(BaseOutputParser):\n",
    "    def parse(self, text: str) -> str:\n",
    "        items = text.strip().split(\",\")\n",
    "        return list(map(str.strip, items))\n",
    "parser = CommaOutputParser()\n",
    "\n",
    "## example\n",
    "template = ChatPromptTemplate.from_messages([\n",
    "    (\"system\", \"You are a list generating machine. Everything you are asked will be answered with a comman seperated list of max {max_items} in lower case. Do NOT reply with anything else.\"),\n",
    "    (\"human\", \"{question}\")\n",
    "])\n",
    "prompt = template.format_messages(max_items=10, question=\"What are the planets?\")\n",
    "answer = llm.predict_messages(prompt)\n",
    "parser.parse(answer.content)"
   ]
  },
  {
   "cell_type": "code",
   "execution_count": null,
   "metadata": {},
   "outputs": [],
   "source": [
    "# LCEL (input | output)\n",
    "\"\"\"\n",
    "component     |     input          |    output\n",
    "-------------------------------------------------------\n",
    "template      |     **dict**       |    prompt value\n",
    "llm           |     prompt value   |    chat message\n",
    "parser        |     chat message   |    **parsed message**\n",
    "\"\"\"\n",
    "chain = template | llm | parser # template: .format_messages -> llm: .predict_messages -> parser: .parse\n",
    "\n",
    "chain.invoke({\n",
    "    # template input\n",
    "    \"max_items\": 5,\n",
    "    \"question\": \"What are the pokemons?\"\n",
    "})"
   ]
  }
 ],
 "metadata": {
  "kernelspec": {
   "display_name": "chatbot",
   "language": "python",
   "name": "python3"
  },
  "language_info": {
   "codemirror_mode": {
    "name": "ipython",
    "version": 3
   },
   "file_extension": ".py",
   "mimetype": "text/x-python",
   "name": "python",
   "nbconvert_exporter": "python",
   "pygments_lexer": "ipython3",
   "version": "3.10.16"
  }
 },
 "nbformat": 4,
 "nbformat_minor": 2
}
